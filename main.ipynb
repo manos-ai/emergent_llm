{
 "cells": [
  {
   "cell_type": "markdown",
   "id": "ca6ac41b-d955-47c0-b0f4-2eb426be69e2",
   "metadata": {},
   "source": [
    "# Towards predicting Emergent Abilities in Large Language Models"
   ]
  },
  {
   "cell_type": "markdown",
   "id": "b09f2682-1ab4-4e9f-bcbd-f74192c0b5be",
   "metadata": {},
   "source": [
    "This is the code for our paper \"Towards predicting Emergent Abilities in Large Language Models\" (FMW @ CVPR'24).\n",
    "\n",
    "Our aim is to explore whether “emergent abilities” can be predicted with scale for Large Language Models (LLMs) on some standard arithmetic tasks such as integer addition."
   ]
  },
  {
   "cell_type": "markdown",
   "id": "bd197b43-a73d-4bbe-8d02-507134e9281b",
   "metadata": {},
   "source": [
    "## Introduction"
   ]
  },
  {
   "cell_type": "markdown",
   "id": "dddf1f2a",
   "metadata": {},
   "source": [
    "- Emergent abilities in Large Language Models (LLMs) seem to appear suddenly and unexpectedly with scale.\n",
    "- In this work, we make progress toward being able to predict these emergence, for the case of accuracy in simple arithmetic tasks.\n",
    "- This relies on two innovations: (1) realizing that accuracy follows a different (exponential) scaling law and (2) showing how we can overcome the so-called resolution problem with a\n",
    "fixed-size dataset."
   ]
  },
  {
   "cell_type": "markdown",
   "id": "cc2c4fcf",
   "metadata": {},
   "source": [
    "## Preliminaries"
   ]
  },
  {
   "cell_type": "markdown",
   "id": "c11bf78b",
   "metadata": {},
   "source": [
    "- Large Language Models (LLMs): auto-regressive models that predict the probability next word (token), given the previous ones.\n",
    "- Scaling laws: the finding that the cross-entropy loss of next-token prediction in LLMs changes predictably with scale:\n",
    "\n",
    "$$ \\tag{1}\n",
    "L = \\frac{c}{N^a}\n",
    "$$\n",
    "\n",
    "where $L$ is the cross-entropy, $N$ the model size (number of parameters) and $a, c$ constants."
   ]
  },
  {
   "cell_type": "markdown",
   "id": "7aa1c37d",
   "metadata": {},
   "source": [
    "## Each metric follows a different scaling law"
   ]
  },
  {
   "cell_type": "markdown",
   "id": "cd88a6a4",
   "metadata": {},
   "source": [
    "Our starting point is the seminal work of [(Shaffer et al., 2023)](https://arxiv.org/abs/2304.15004). They claim that some metrics like accuracy are in some sense ”bad”, since they are discontinuous. They propose e.g., changing accuracy to edit distance, which is more continuous and scales more predictably."
   ]
  },
  {
   "cell_type": "markdown",
   "id": "1ac846c8",
   "metadata": {},
   "source": [
    "We counteract that the metric is a fundamental component of an ML task, and should not be changed. Instead, accuracy simply follows a different scaling law, an exponential one:"
   ]
  },
  {
   "cell_type": "markdown",
   "id": "9c37284b",
   "metadata": {},
   "source": [
    "**Proposition 3.1**: Let $p$ be the probability of correct next token prediction, and $L$ the expected cross-entropy loss, as described before. Assuming that $p$ is i.i.d. (independent and identically distributed) among output tokens and the scaling law of eq. (1), we have the following relation:\n",
    "\n",
    "$$ \\tag{2}\n",
    "acc \\approx \\exp(-c / N^a)^n \n",
    "$$\n",
    "\n",
    "where $N$ is the model size, and $n$ the response length."
   ]
  },
  {
   "cell_type": "markdown",
   "id": "4732e1a4",
   "metadata": {},
   "source": [
    "However, directly measuring eq. (2) runs into the resolution problem:\n",
    "- Having $m$ data points, we can’t measure accuracies below $1/m$.\n",
    "- This makes the performance of smaller models seem as 0, until we get a sudden jump at some specific size."
   ]
  },
  {
   "cell_type": "markdown",
   "id": "dabffedd",
   "metadata": {},
   "source": [
    "## Overcoming the resolution problem"
   ]
  },
  {
   "cell_type": "markdown",
   "id": "143a0f5e",
   "metadata": {},
   "source": [
    "We show that the resolution problem can be overcome, using only a fixed dataset size $m$. This relies on the fact that LLMs are probabilistic, and we can perform sampling."
   ]
  },
  {
   "cell_type": "markdown",
   "id": "564eb887",
   "metadata": {},
   "source": [
    "When the correct answer(s) is known in advance, one can directly compute the LLM’s next token probabilities, and multiply them to obtain the probability of the final answer:\n",
    "\n",
    "**Proposition 3.2**: Let $x$ be an input to an LLM $f_\\theta$, and $y$ be the desired output. Then, the probability $p$ of $y$ as a completion of $x$ can be readily computed by $f_\\theta$."
   ]
  },
  {
   "cell_type": "markdown",
   "id": "1c724199",
   "metadata": {},
   "source": [
    "On the other hand, if we don’t know the correct answer in advance, but we can recognize it, we can use adaptive sampling: with that, we can measure arbitrarily low accuracies using only fixed data:\n",
    "\n",
    "**Proposition 3.3**: Let $x$ be an input to an LLM $f_\\theta$, and $p$ the probability that $f_\\theta$ outputs a correct response. Sample $k$ answers, until a fixed number $s$ of successes are obtained; then, the estimate $p = s/k$ is a maximum likelihood estimate of the true probability $p$."
   ]
  },
  {
   "cell_type": "markdown",
   "id": "c6641a79",
   "metadata": {},
   "source": [
    "With that, we use the following algorithm to estimate the accuracy of an LLM:"
   ]
  },
  {
   "cell_type": "markdown",
   "id": "c1491a1b",
   "metadata": {},
   "source": [
    "![alg. 1](fig/alg1.png)"
   ]
  },
  {
   "cell_type": "markdown",
   "id": "a5ffbd37",
   "metadata": {},
   "source": [
    "## Experiments"
   ]
  },
  {
   "cell_type": "markdown",
   "id": "97c967de",
   "metadata": {},
   "source": [
    "We work with the Pythia scaling suite [(Biderman, 2023)](https://arxiv.org/abs/2304.01373): this is a family of Transformer models trained on the PILE dataset, ranging from small sizes (14M parameters) up to large sizes (12B parameters). This makes Pythia an ideal testbet for studying LLM scaling."
   ]
  },
  {
   "cell_type": "markdown",
   "id": "69141206",
   "metadata": {},
   "source": [
    "We test the models on integer arithmetic tasks such as addition: \n",
    "\n",
    "**Prompt**: How much is 18 + 32? Answer: <br>\n",
    "**Expected Answer**: 18 + 32 = 50"
   ]
  },
  {
   "cell_type": "markdown",
   "id": "99fdde55",
   "metadata": {},
   "source": [
    "We construct a dataset of $m = 100$ random 2-digit addition cases, and use alg. 1 to evaluate the accuracy of different LLMs on it. We use default generation for the LLMs (with\n",
    "temperature 0.7), and apply the sampling approach (Prop. 3.3), checking if the desired answer is contained in the LLM’s output."
   ]
  },
  {
   "cell_type": "markdown",
   "id": "afa1cbf5",
   "metadata": {},
   "source": [
    "Then, we can use the values to fit eq. (2) on the results. This can be done with linear regression, since we have:\n",
    "\n",
    "$$ \\tag{3}\n",
    "acc = \\exp(-c / N^a)^n \\iff \\ln(acc) = -n \\frac{c}{N^a} \\iff \\\\\n",
    "\\ln(- \\ln(acc) ) = \\ln(c n) - a \\ln(N) \\Rightarrow \\\\\n",
    "\\ln(- \\ln(acc) ) = A \\ln(N) + B\n",
    "$$\n",
    "\n",
    "with $A = -a, B = \\ln(c n)$. "
   ]
  },
  {
   "cell_type": "markdown",
   "id": "cce4d1dc",
   "metadata": {},
   "source": [
    "We evaluate on the Pythia models of sizes 160M - 1.4B parameters, and plot their accuracy vs parameters size in a loglog vs log plot, as indicated by eq. (3). We also plot the regression line, as well as the performance of non-evaluated models of sizes 2.8B and 6.9B."
   ]
  },
  {
   "cell_type": "code",
   "execution_count": 2,
   "id": "080f64d8",
   "metadata": {},
   "outputs": [],
   "source": [
    "import numpy as np\n",
    "import matplotlib.pyplot as plt\n",
    "import pandas as pd"
   ]
  },
  {
   "cell_type": "code",
   "execution_count": null,
   "id": "d9e7b717",
   "metadata": {},
   "outputs": [],
   "source": [
    "# uncomment to run all evaluations from scratch. This will take several hours..\n",
    "# !python 'src/pythia_models_v2'"
   ]
  },
  {
   "cell_type": "code",
   "execution_count": 4,
   "id": "e77fbe2c",
   "metadata": {},
   "outputs": [
    {
     "data": {
      "image/png": "[encoded data removed]",
      "text/plain": [
       "<Figure size 640x480 with 1 Axes>"
      ]
     },
     "metadata": {},
     "output_type": "display_data"
    }
   ],
   "source": [
    "# load saved results\n",
    "df = pd.read_csv('results/acc_vs_N_results.csv')\n",
    "N_all = np.array( df['trainable_params'] )\n",
    "acc_all = np.array( df['accs'] )\n",
    "\n",
    "# use the models up to 1.4b for obtaining the curve, and the rest for scaling\n",
    "Ns = N_all[:3]\n",
    "accs = acc_all[:3]\n",
    "\n",
    "Ns2 = N_all[3:]\n",
    "accs2 = acc_all[3:]\n",
    "\n",
    "# build the ln vs ln_ln plot\n",
    "lnln_accs = np.log( -np.log( accs ) )\n",
    "ln_Ns = np.log(Ns)\n",
    "\n",
    "lnln_accs2 = np.log( -np.log( accs2 ) )\n",
    "ln_Ns2 = np.log(Ns2)\n",
    "\n",
    "x = ln_Ns\n",
    "y = lnln_accs\n",
    "\n",
    "x2 = ln_Ns2\n",
    "y2 = lnln_accs2\n",
    "\n",
    "x_all = np.concatenate((x, x2))\n",
    "y_all = np.concatenate((y, y2))\n",
    "\n",
    "# calculate the line of best fit\n",
    "a, b = np.polyfit(x, y, 1)\n",
    "\n",
    "# plot the scatter points\n",
    "plt.scatter(x, y)\n",
    "plt.scatter(x2, y2, c = 'r')\n",
    "\n",
    "# plot the line of best fit\n",
    "plt.plot(x_all, a*x_all + b, 'g')\n",
    "\n",
    "# display\n",
    "plt.xlabel('$ln(N)$')\n",
    "plt.ylabel('$ln(-ln(acc))$')\n",
    "plt.show()"
   ]
  },
  {
   "cell_type": "markdown",
   "id": "05a20aa1",
   "metadata": {},
   "source": [
    "Now translate the results back to the accuracy plot, and compare the extrapolation to the actual data (red points)"
   ]
  },
  {
   "cell_type": "code",
   "execution_count": 5,
   "id": "dc78a796",
   "metadata": {},
   "outputs": [
    {
     "data": {
      "image/png": "[encoded data removed]",
      "text/plain": [
       "<Figure size 640x480 with 1 Axes>"
      ]
     },
     "metadata": {},
     "output_type": "display_data"
    }
   ],
   "source": [
    "# standard plot\n",
    "def calc_acc(N, A, B):\n",
    "    x = np.log(N)\n",
    "    y = A * x + b\n",
    "    # y = ln(-ln(acc)), solve\n",
    "    # so e^y = -ln(acc) => ln(acc) = -e^y => acc = exp(- e^y)\n",
    "    acc = np.exp(- np.exp(y))\n",
    "    return acc\n",
    "\n",
    "\n",
    "Ns_all = np.concatenate((Ns, Ns2))\n",
    "accs_all = np.concatenate((accs, accs2))\n",
    "\n",
    "accs_calc = calc_acc(Ns_all, a, b)\n",
    "\n",
    "\n",
    "# plot the scatter points\n",
    "plt.scatter(Ns, accs)\n",
    "plt.scatter(Ns2, accs2, c = 'r')\n",
    "\n",
    "# plot the regression line\n",
    "plt.plot(Ns_all, accs_calc, color = 'g')\n",
    "\n",
    "\n",
    "# display\n",
    "plt.xlabel('$N$')\n",
    "plt.ylabel('$acc$')\n",
    "plt.show()"
   ]
  },
  {
   "cell_type": "markdown",
   "id": "c1549bbf",
   "metadata": {},
   "source": [
    "Plot of $acc$ vs. $N$, along with the points for specific models. Models used in linear regression are plotted in blue, and not used ones in red."
   ]
  },
  {
   "cell_type": "markdown",
   "id": "d3e6fc2f",
   "metadata": {},
   "source": [
    "Overall, the results indicate that emergence can be predicted in this setting. "
   ]
  },
  {
   "cell_type": "markdown",
   "id": "685653e1",
   "metadata": {},
   "source": [
    "## Conclusion"
   ]
  },
  {
   "cell_type": "markdown",
   "id": "2d8e4cf7",
   "metadata": {},
   "source": [
    "- In this work, we try to address the puzzling phenomenon of emergent abilities in LLMs.\n",
    "- In the case of accuracy, we come up with two solutions: (1) that accuracy follows a different scaling curve, and that (2) it can be accurately measured, overcoming the resolution\n",
    "problem by sampling-based techniques.\n",
    "- We find that our approach is able to predict the performance of larger LLMs on a simple arithemtic task relying only on measurements made on smaller models.\n",
    "- Can we extend this results to further cases and metrics?"
   ]
  }
 ],
 "metadata": {
  "kernelspec": {
   "display_name": "HFenv",
   "language": "python",
   "name": "python3"
  },
  "language_info": {
   "codemirror_mode": {
    "name": "ipython",
    "version": 3
   },
   "file_extension": ".py",
   "mimetype": "text/x-python",
   "name": "python",
   "nbconvert_exporter": "python",
   "pygments_lexer": "ipython3",
   "version": "3.11.9"
  }
 },
 "nbformat": 4,
 "nbformat_minor": 5
}
